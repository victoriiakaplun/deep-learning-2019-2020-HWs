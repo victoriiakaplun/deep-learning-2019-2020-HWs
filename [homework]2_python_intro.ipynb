{
  "nbformat": 4,
  "nbformat_minor": 0,
  "metadata": {
    "kernelspec": {
      "display_name": "Python 3",
      "language": "python",
      "name": "python3"
    },
    "language_info": {
      "codemirror_mode": {
        "name": "ipython",
        "version": 3
      },
      "file_extension": ".py",
      "mimetype": "text/x-python",
      "name": "python",
      "nbconvert_exporter": "python",
      "pygments_lexer": "ipython3",
      "version": "3.7.3"
    },
    "colab": {
      "name": "[homework]2_python_intro.ipynb",
      "provenance": [],
      "collapsed_sections": [],
      "include_colab_link": true
    }
  },
  "cells": [
    {
      "cell_type": "markdown",
      "metadata": {
        "id": "view-in-github",
        "colab_type": "text"
      },
      "source": [
        "<a href=\"https://colab.research.google.com/github/victoriiakaplun/deep-learning-2019-2020-HWs/blob/main/%5Bhomework%5D2_python_intro.ipynb\" target=\"_parent\"><img src=\"https://colab.research.google.com/assets/colab-badge.svg\" alt=\"Open In Colab\"/></a>"
      ]
    },
    {
      "cell_type": "markdown",
      "metadata": {
        "id": "y1GvSl7RYATs"
      },
      "source": [
        "<p style=\"align: center;\"><img align=center src=\"https://s8.hostingkartinok.com/uploads/images/2018/08/308b49fcfbc619d629fe4604bceb67ac.jpg\" width=500 height=450/></p>\n",
        "\n",
        "<h3 style=\"text-align: center;\"><b>\"Глубокое обучение\". Продвинутый поток</b></h3>\n",
        "\n",
        "<h2 style=\"text-align: center;\"><b>Домашнее задание 1. Основы Python</b></h2>\n",
        "\n",
        "Вам предлагается решить задачи ниже. Решения необходимо сдавать в Stepik."
      ]
    },
    {
      "cell_type": "markdown",
      "metadata": {
        "id": "MDEu6tZQYATy"
      },
      "source": [
        "### Почти двойной факториал\n",
        "Дано натуральное $N < 100$.  Выведите произведение всех нечётных натуральных чисел, не превосходящих $N$."
      ]
    },
    {
      "cell_type": "code",
      "metadata": {
        "id": "5GgcNVy1YAT0"
      },
      "source": [
        "N = 25\n",
        "\n",
        "def mult(N):\n",
        "  mult = 1\n",
        "  for i in range(1,N+1):\n",
        "    if i % 2 != 0:\n",
        "        mult *= i\n",
        "  return mult\n",
        "\n",
        "N_double_fact = mult(N)\n",
        "assert N_double_fact == 7905853580625, \"Something is wrong! Please try again\""
      ],
      "execution_count": 10,
      "outputs": []
    },
    {
      "cell_type": "markdown",
      "metadata": {
        "id": "A57_204nYAT3"
      },
      "source": [
        "### Хитрая сортировка\n",
        "\n",
        "Пусть у нас есть следующий список, в котором элементы -- tuple из строк:\n",
        "\n",
        "``items = [('one', 'two'), ('three', 'four'), ('five', 'six'), ('string', 'a')]``\n",
        "\n",
        "Мы хотим отсортировать этот список по последней букве второго элемента каждого ``tuple``, т.е. получить такой список:\n",
        "\n",
        "``sorted_items = [('string', 'a'), ('one', 'two'), ('three', 'four'), ('five', 'six')]``.\n",
        "Что нужно вставить вместо \"###\" в следующем выражении, чтобы получить сортировку?\n",
        "\n",
        "``sorted_items = sorted(items, key=lambda x: ###)``"
      ]
    },
    {
      "cell_type": "code",
      "metadata": {
        "id": "SnIk7m_8YAT4",
        "colab": {
          "base_uri": "https://localhost:8080/"
        },
        "outputId": "4a2f1d28-bc00-4aac-87d0-a685539494b0"
      },
      "source": [
        "items = [('one', 'two'), ('three', 'four'), ('five', 'six'), ('string', 'a')]\n",
        "\n",
        "sorted_items = sorted(items, key=lambda x: x[1][-1])\n",
        "print(sorted_items)\n",
        "assert sorted_items == [('string', 'a'), ('one', 'two'), ('three', 'four'), ('five', 'six')], \\\n",
        "\"Something is wrong! Please try again\""
      ],
      "execution_count": 13,
      "outputs": [
        {
          "output_type": "stream",
          "text": [
            "[('string', 'a'), ('one', 'two'), ('three', 'four'), ('five', 'six')]\n"
          ],
          "name": "stdout"
        }
      ]
    },
    {
      "cell_type": "markdown",
      "metadata": {
        "id": "f_ggknIxYAT7"
      },
      "source": [
        "### Слайсы\n",
        "\n",
        "Дан код:\n",
        "\n",
        "``x = [1, 2, 3, 4, 5]``\n",
        "\n",
        "``x[###] = [-1, -3, -5]``\n",
        "\n",
        "``print(x)``\n",
        "\n",
        "Напишите слайс вместо ###, чтобы на экран вывелось:\n",
        "\n",
        "``[-5, 2, -3, 4, -1]``"
      ]
    },
    {
      "cell_type": "code",
      "metadata": {
        "id": "JcLMmkF6YAT8",
        "colab": {
          "base_uri": "https://localhost:8080/"
        },
        "outputId": "1ff6e2c0-5142-4a14-b189-fe2366c6d083"
      },
      "source": [
        "x = [1, 2, 3, 4, 5]\n",
        "x[::-2] = [-1, -3, -5]\n",
        "print(x)\n",
        "assert x == [-5, 2, -3, 4, -1]"
      ],
      "execution_count": 16,
      "outputs": [
        {
          "output_type": "stream",
          "text": [
            "[-5, 2, -3, 4, -1]\n"
          ],
          "name": "stdout"
        }
      ]
    },
    {
      "cell_type": "markdown",
      "metadata": {
        "id": "3QOrzr1_YAT_"
      },
      "source": [
        "### Создание массивов\n",
        "Дан массив $A[0,\\ldots,N-1]$. Напишите функцию, принимающую один обязательный аргумент A и один опциональный аргумент ``erase``, по умолчанию равный 1. Возвратите массив $B[0,\\ldots, N-1]$, где $B_i = A_0 + \\ldots + A_{i}$ --- массив частичных сумм массива $A$, предварительно удалив из массива $B$ все элементы, равные erase. Постарайтесь сделать это за линейное время без использования Numpy."
      ]
    },
    {
      "cell_type": "code",
      "metadata": {
        "id": "GSeVXF-xYAUA",
        "colab": {
          "base_uri": "https://localhost:8080/"
        },
        "outputId": "597c17fa-ab91-43c5-f50f-fb0092bacab9"
      },
      "source": [
        "def cumsum_and_erase(A, erase=1):\n",
        "    B = []\n",
        "    for i in range(0, len(A)):\n",
        "      sum_elem = sum(A[:i+1])\n",
        "      if sum_elem != erase:\n",
        "        B.append(sum_elem)\n",
        "    return B\n",
        "\n",
        "A = [5, 1, 4, 5, 14]\n",
        "B = cumsum_and_erase(A, erase=10)\n",
        "print(B)\n",
        "assert B == [5, 6, 15, 29], \"Something is wrong! Please try again\""
      ],
      "execution_count": 23,
      "outputs": [
        {
          "output_type": "stream",
          "text": [
            "[5, 6, 15, 29]\n"
          ],
          "name": "stdout"
        }
      ]
    },
    {
      "cell_type": "markdown",
      "metadata": {
        "id": "xvOBFjavYAUD"
      },
      "source": [
        "### Обработка текста\n",
        "Дан список текстов, слова в которых разделены пробелами (можно считать, что знаков препинания нет). Часть слов является \"мусорными\": в них присутствуют цифры и спецсимволы. Отфильтруйте такие слова из каждого текста. Используйте функции ``str.split``, ``str.isalpha``, ``str.join``, а также [генератор filter](http://pythonicway.com/python-functinal-programming)."
      ]
    },
    {
      "cell_type": "code",
      "metadata": {
        "id": "GBzS-UHZYAUE",
        "colab": {
          "base_uri": "https://localhost:8080/"
        },
        "outputId": "888e5d86-297c-4224-e2d7-09a335fed76a"
      },
      "source": [
        "sentences = ['1 thousand devils', 'My name is 9Pasha', 'Room #125 costs $100']\n",
        "\n",
        "def process(sentences):\n",
        "  result = []\n",
        "  for s in sentences:\n",
        "    filtered_s = list(filter(lambda word: word.isalpha(), s.split()))\n",
        "    result.append(' '.join(filtered_s))\n",
        "  return result\n",
        "print(process(sentences))\n",
        "assert process(sentences) == ['thousand devils', 'My name is', 'Room costs'], \\\n",
        "\"Something is wrong! Please try again\""
      ],
      "execution_count": 30,
      "outputs": [
        {
          "output_type": "stream",
          "text": [
            "['thousand devils', 'My name is', 'Room costs']\n"
          ],
          "name": "stdout"
        }
      ]
    },
    {
      "cell_type": "markdown",
      "metadata": {
        "id": "EK5Llgf7YAUG"
      },
      "source": [
        "### Собственный класс \"Нейрон\"\n",
        "Реализуйте класс \"Нейрон\", у которого будет несколько методов: \n",
        "\n",
        "* ``__init__``. Принимает на вход массив весов нейрона --- $w = (w_1, \\ldots, w_n)$, а также функцию активации $f$ (по умолчанию $f(x) = x$). Сохраняет веса и функцию внутри класса.\n",
        "\n",
        "* ``forward``. Принимает на вход массив $x = (x_1, \\ldots, x_N)$ --- входы нейрона. Возвращает $f(w_1x_1 + \\ldots + w_nx_n)$.\n",
        "\n",
        "* ``backlog``. Возвращает последний массив $x$, который подавался функции ``forward`` на вход. \n",
        "\n",
        "Если у вас появились трудности, информация по созданию своих классов есть здесь: https://pythonworld.ru/osnovy/obektno-orientirovannoe-programmirovanie-obshhee-predstavlenie.html"
      ]
    },
    {
      "cell_type": "code",
      "metadata": {
        "id": "ZmUVu7fNYAUH"
      },
      "source": [
        "class Neuron:\n",
        "    \n",
        "    def __init__(self, w, f = lambda x: x):\n",
        "        self.w = w\n",
        "        self.f = f\n",
        "    \n",
        "    def forward(self, x):\n",
        "      self.last_x=x\n",
        "      sum = 0\n",
        "      for i in range(len(x)):\n",
        "          sum += self.w[i]*x[i]\n",
        "      return self.f(sum)\n",
        "        \n",
        "    def backlog(self):\n",
        "        return self.last_x"
      ],
      "execution_count": 38,
      "outputs": []
    },
    {
      "cell_type": "code",
      "metadata": {
        "id": "g6OIjuZhYAUK"
      },
      "source": [
        "import math\n",
        "\n",
        "w = [0.5, 1., -1., 2.]\n",
        "\n",
        "neuron = Neuron([0.5, 1., -1., 2.], lambda x: 1. / (1 + math.exp(x)))\n",
        "\n",
        "x = [1, 2, 3, 4]\n",
        "\n",
        "assert abs(neuron.forward(x) - 0.0005527) < 1e-6, \"Something is wrong! Please try again\"\n",
        "\n",
        "assert neuron.backlog() == x, \"Something is wrong! Please try again\"\n",
        "\n",
        "y = [0, 0, 0, 0]\n",
        "\n",
        "assert abs(neuron.forward(y) - 0.5) < 1e-6, \"Something is wrong! Please try again\""
      ],
      "execution_count": 39,
      "outputs": []
    }
  ]
}